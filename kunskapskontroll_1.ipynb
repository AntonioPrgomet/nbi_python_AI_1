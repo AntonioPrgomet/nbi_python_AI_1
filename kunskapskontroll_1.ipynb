{
 "cells": [
  {
   "cell_type": "markdown",
   "id": "f193e061",
   "metadata": {},
   "source": [
    "# Kunskapskontroll 1\n",
    "The exercises are connected to the video available at: https://www.youtube.com/watch?v=M7bnYJyCx0Q from 0:00 to 1:02:20.\n",
    "\n",
    "When writing the solutions make sure the code is clear and readable. When providing comments, follow the general principle that you should comment \"why\" you are doing something and not \"what\", the \"what\" is seen by the code itself. \n",
    "\n",
    "You should write the code yourself but just as in reality you should discuss and cooperate with class-colleagues, this is the group part of the assignment. "
   ]
  },
  {
   "cell_type": "markdown",
   "id": "fca64927",
   "metadata": {},
   "source": [
    "### Add and multiply the two numbers below. "
   ]
  },
  {
   "cell_type": "code",
   "execution_count": null,
   "id": "a904dc86",
   "metadata": {},
   "outputs": [],
   "source": [
    "nr1 = 5\n",
    "nr2 = 10"
   ]
  },
  {
   "cell_type": "code",
   "execution_count": null,
   "id": "e6dbf0a8",
   "metadata": {},
   "outputs": [],
   "source": []
  },
  {
   "cell_type": "markdown",
   "id": "73a0e54d",
   "metadata": {},
   "source": [
    "# Lists"
   ]
  },
  {
   "cell_type": "markdown",
   "id": "86d1e9fb",
   "metadata": {},
   "source": [
    "### Extract the first and last element in the list."
   ]
  },
  {
   "cell_type": "code",
   "execution_count": null,
   "id": "bcf3c7c7",
   "metadata": {},
   "outputs": [],
   "source": [
    "l = [1, 2, 3, 10, 15, 100]"
   ]
  },
  {
   "cell_type": "code",
   "execution_count": null,
   "id": "c8c1ad57",
   "metadata": {},
   "outputs": [],
   "source": []
  },
  {
   "cell_type": "markdown",
   "id": "acd427da",
   "metadata": {},
   "source": [
    "### Check if the first and last number is the same in each list respectively. So, we expect the answer True in list_1 and False in list_2."
   ]
  },
  {
   "cell_type": "code",
   "execution_count": null,
   "id": "191cc82d",
   "metadata": {},
   "outputs": [],
   "source": [
    "list_1 = [10, 20, 30, 40, 10]\n",
    "list_2 = [75, 65, 35, 75, 30]"
   ]
  },
  {
   "cell_type": "code",
   "execution_count": null,
   "id": "3abe7838",
   "metadata": {},
   "outputs": [],
   "source": []
  },
  {
   "cell_type": "markdown",
   "id": "fbe9606a",
   "metadata": {},
   "source": [
    "### Replace the number 4567 in the list with the number 22. "
   ]
  },
  {
   "cell_type": "code",
   "execution_count": null,
   "id": "c112096f",
   "metadata": {},
   "outputs": [],
   "source": [
    "replace_4567 = [100, 2, 4567, 5, 7]"
   ]
  },
  {
   "cell_type": "code",
   "execution_count": null,
   "id": "b88c6628",
   "metadata": {},
   "outputs": [],
   "source": []
  },
  {
   "cell_type": "markdown",
   "id": "32fe337d",
   "metadata": {},
   "source": [
    "### Replace the two numbers 3 and 4 with 30 and 40 in one line of code  by using slicing. "
   ]
  },
  {
   "cell_type": "code",
   "execution_count": null,
   "id": "9d3eecd6",
   "metadata": {},
   "outputs": [],
   "source": [
    "replace_two_numbers = [1, 2, 3, 4, 5]"
   ]
  },
  {
   "cell_type": "code",
   "execution_count": null,
   "id": "e6798e4f",
   "metadata": {},
   "outputs": [],
   "source": []
  },
  {
   "cell_type": "markdown",
   "id": "1d595e27",
   "metadata": {},
   "source": [
    "### Print out the list below but in reverse order."
   ]
  },
  {
   "cell_type": "code",
   "execution_count": null,
   "id": "6df7567f",
   "metadata": {},
   "outputs": [],
   "source": [
    "my_list = [1, 2, 3, 10, 15, 100]"
   ]
  },
  {
   "cell_type": "code",
   "execution_count": null,
   "id": "88e8e811",
   "metadata": {},
   "outputs": [],
   "source": []
  },
  {
   "cell_type": "markdown",
   "id": "54c58e8a",
   "metadata": {},
   "source": [
    "### Extract the following numbers with indexing or slicing:\n",
    "* The number 5 in the list within the list. \n",
    "* Extract the whole list [10, 12, 13, 5, 100].\n",
    "* Extract 12, 13, 5 in the list within the list\n",
    "* Extract the number 8888 with negative indexing.\n",
    "* Extract 1, 2, [10, 12, 13, 5, 100]."
   ]
  },
  {
   "cell_type": "code",
   "execution_count": null,
   "id": "c12e313d",
   "metadata": {},
   "outputs": [],
   "source": [
    "list_containing_a_list = [1, 2, [10, 12, 13, 5, 100], 8888, 3, [1, 2, 3]]"
   ]
  },
  {
   "cell_type": "code",
   "execution_count": null,
   "id": "7801b694",
   "metadata": {},
   "outputs": [],
   "source": []
  },
  {
   "cell_type": "markdown",
   "id": "731a9e3e",
   "metadata": {},
   "source": [
    "### Append the empty list with the number 10 and the string 'Hello'. You should use the append method twice. "
   ]
  },
  {
   "cell_type": "code",
   "execution_count": null,
   "id": "faecabaa",
   "metadata": {},
   "outputs": [],
   "source": [
    "empty_list_1 = []"
   ]
  },
  {
   "cell_type": "code",
   "execution_count": null,
   "id": "e5e57508",
   "metadata": {},
   "outputs": [],
   "source": []
  },
  {
   "cell_type": "markdown",
   "id": "bebb5618",
   "metadata": {},
   "source": [
    "### Append the empty list with the number 10 and the string 'Hello'. You should use the extend method once. "
   ]
  },
  {
   "cell_type": "code",
   "execution_count": null,
   "id": "82e7301a",
   "metadata": {},
   "outputs": [],
   "source": [
    "empty_list_2 = []"
   ]
  },
  {
   "cell_type": "code",
   "execution_count": null,
   "id": "ffc6525f",
   "metadata": {},
   "outputs": [],
   "source": []
  },
  {
   "cell_type": "markdown",
   "id": "539b730a",
   "metadata": {},
   "source": [
    "### Use list comprehension to create a new list from list_example, where each number is mulitplied by 10. You should only include the numbers between 4-8 where 4 and 8 is included."
   ]
  },
  {
   "cell_type": "code",
   "execution_count": null,
   "id": "14300485",
   "metadata": {},
   "outputs": [],
   "source": [
    "list_example = [1, 2, 3, 4, 5, 6, 7, 8, 9, 10]"
   ]
  },
  {
   "cell_type": "code",
   "execution_count": null,
   "id": "61207a3b",
   "metadata": {},
   "outputs": [],
   "source": []
  },
  {
   "cell_type": "markdown",
   "id": "49aa8bb4",
   "metadata": {},
   "source": [
    "### Concatenate the two lists below elementwise so you get a new list ['My', 'name', 'is', 'Antonio']. Hint: use the zip function. \n",
    "Expected output: [\"My\", \"name\", \"is\", \"Antonio\"]. "
   ]
  },
  {
   "cell_type": "code",
   "execution_count": null,
   "id": "fde2701c",
   "metadata": {},
   "outputs": [],
   "source": [
    "list1 = [\"M\", \"na\", \"i\", \"Anto\"]\n",
    "list2 = [\"y\", \"me\", \"s\", \"nio\"]"
   ]
  },
  {
   "cell_type": "code",
   "execution_count": null,
   "id": "3e7f0356",
   "metadata": {},
   "outputs": [],
   "source": []
  },
  {
   "cell_type": "markdown",
   "id": "56bf725b",
   "metadata": {},
   "source": [
    "# Tuples"
   ]
  },
  {
   "cell_type": "markdown",
   "id": "d389f5d9",
   "metadata": {},
   "source": [
    "### Unpack the tuple so that we get 4 new variables. "
   ]
  },
  {
   "cell_type": "code",
   "execution_count": null,
   "id": "391422e9",
   "metadata": {},
   "outputs": [],
   "source": [
    "my_tuple = (10, 20, 30, 40)"
   ]
  },
  {
   "cell_type": "code",
   "execution_count": null,
   "id": "bc420b70",
   "metadata": {},
   "outputs": [],
   "source": []
  },
  {
   "cell_type": "markdown",
   "id": "e3dbd7e3",
   "metadata": {},
   "source": [
    "### Explain with your own words what the code below containing two scenarios does. "
   ]
  },
  {
   "cell_type": "code",
   "execution_count": null,
   "id": "9cd720b9",
   "metadata": {},
   "outputs": [],
   "source": [
    "def f(x): \n",
    "    return (x, x**2, x**3, x**4)\n",
    "\n",
    "# Scenario 1.\n",
    "x1, x2, x3, x4 = f(2)\n",
    "print(x1)\n",
    "print(x2)\n",
    "print(x3)\n",
    "print(x4)\n",
    "\n",
    "print()\n",
    "\n",
    "# Scenario 2.\n",
    "x = f(3)\n",
    "print(x)"
   ]
  },
  {
   "cell_type": "markdown",
   "id": "a1d0ad8c",
   "metadata": {},
   "source": [
    "### Count the number of times 24 occurs in the tupple. "
   ]
  },
  {
   "cell_type": "code",
   "execution_count": null,
   "id": "da5e6047",
   "metadata": {},
   "outputs": [],
   "source": [
    "tuple_22 = 24, 2, 4, 24, 24, 5"
   ]
  },
  {
   "cell_type": "code",
   "execution_count": null,
   "id": "818a5471",
   "metadata": {},
   "outputs": [],
   "source": []
  },
  {
   "cell_type": "markdown",
   "id": "02b90433",
   "metadata": {},
   "source": [
    "### Swap the two tuples, i.e. t1 should be replaced by t2 and vice versa. "
   ]
  },
  {
   "cell_type": "code",
   "execution_count": null,
   "id": "d0bf409a",
   "metadata": {},
   "outputs": [],
   "source": [
    "t1 = ('Python', 'MATLAB')\n",
    "t2 = ('R', 'Julia')"
   ]
  },
  {
   "cell_type": "code",
   "execution_count": null,
   "id": "54e7301b",
   "metadata": {},
   "outputs": [],
   "source": []
  },
  {
   "cell_type": "markdown",
   "id": "f44bc333",
   "metadata": {},
   "source": [
    "# Dictionaries"
   ]
  },
  {
   "cell_type": "markdown",
   "id": "c59f5a5a",
   "metadata": {},
   "source": [
    "### We have two lists, use both of them to convert it to a dictionary. l1 should be the keys whereas l2 should be the values. Hint, use the zip function. "
   ]
  },
  {
   "cell_type": "code",
   "execution_count": null,
   "id": "c22949bc",
   "metadata": {},
   "outputs": [],
   "source": [
    "l1 = [1, 2, 3]\n",
    "l2 = ['Python', 'C++', 'Java']"
   ]
  },
  {
   "cell_type": "code",
   "execution_count": null,
   "id": "d32b1d97",
   "metadata": {},
   "outputs": [],
   "source": []
  },
  {
   "cell_type": "markdown",
   "id": "08c24361",
   "metadata": {},
   "source": [
    "### Print out the value corresponding to the key \"1\"."
   ]
  },
  {
   "cell_type": "code",
   "execution_count": null,
   "id": "64ed0f46",
   "metadata": {},
   "outputs": [],
   "source": [
    "dictionary = {0: 'Easy', 1: 'as', 2: 'ABC'}"
   ]
  },
  {
   "cell_type": "code",
   "execution_count": null,
   "id": "283ece07",
   "metadata": {},
   "outputs": [],
   "source": []
  },
  {
   "cell_type": "markdown",
   "id": "49657a9e",
   "metadata": {},
   "source": [
    "### Explain with your own words what the code does. "
   ]
  },
  {
   "cell_type": "code",
   "execution_count": null,
   "id": "b31f3461",
   "metadata": {},
   "outputs": [],
   "source": [
    "def y(x):\n",
    "  y0 = x\n",
    "  y1 = x**2\n",
    "  y2 = x**3\n",
    "\n",
    "  return {'y0': y0, 'y1': y1 ,'y2': y2}"
   ]
  },
  {
   "cell_type": "code",
   "execution_count": null,
   "id": "16e62182",
   "metadata": {},
   "outputs": [],
   "source": [
    "y(2)['y1']"
   ]
  },
  {
   "cell_type": "markdown",
   "id": "018b60ac",
   "metadata": {},
   "source": [
    "# Sets"
   ]
  },
  {
   "cell_type": "markdown",
   "id": "e2b2b51c",
   "metadata": {},
   "source": [
    "### Create a set named my_set containing the items: Python, R, MATLAB, Julia, SAS, C.  "
   ]
  },
  {
   "cell_type": "code",
   "execution_count": null,
   "id": "79a04e2a",
   "metadata": {},
   "outputs": [],
   "source": []
  },
  {
   "cell_type": "markdown",
   "id": "4b22140b",
   "metadata": {},
   "source": [
    "### Find all elements that are in atleast one of the sets. "
   ]
  },
  {
   "cell_type": "code",
   "execution_count": null,
   "id": "59a5c7ef",
   "metadata": {},
   "outputs": [],
   "source": [
    "set_a = {1, 2, 99}\n",
    "set_b = {0, 100, 15, 765}"
   ]
  },
  {
   "cell_type": "code",
   "execution_count": null,
   "id": "cb6f8df0",
   "metadata": {},
   "outputs": [],
   "source": []
  },
  {
   "cell_type": "markdown",
   "id": "a7b6740f",
   "metadata": {},
   "source": [
    "### Find all the items that are in *both* lists and return those values in a list. "
   ]
  },
  {
   "cell_type": "code",
   "execution_count": null,
   "id": "9a81165c",
   "metadata": {},
   "outputs": [],
   "source": [
    "l1 = ['Python', 'R', 'MATLAB', 'Julia']\n",
    "l2 = ['Python', 'Julia']"
   ]
  },
  {
   "cell_type": "code",
   "execution_count": null,
   "id": "555feeef",
   "metadata": {},
   "outputs": [],
   "source": []
  },
  {
   "cell_type": "markdown",
   "id": "8a79680b",
   "metadata": {},
   "source": [
    "### Find all the unique elements of the list. "
   ]
  },
  {
   "cell_type": "code",
   "execution_count": null,
   "id": "b3564d41",
   "metadata": {},
   "outputs": [],
   "source": [
    "l = [1, 1, 2, 2, 3, 1, 2]"
   ]
  },
  {
   "cell_type": "code",
   "execution_count": null,
   "id": "ed1ef5e2",
   "metadata": {},
   "outputs": [],
   "source": []
  },
  {
   "cell_type": "markdown",
   "id": "68969341",
   "metadata": {},
   "source": [
    "### Find all the elements that are in set_1 but not in set_2."
   ]
  },
  {
   "cell_type": "code",
   "execution_count": null,
   "id": "4e1d29c9",
   "metadata": {},
   "outputs": [],
   "source": [
    "set_1 = {1, 2, 3, 4, 5, 6}\n",
    "set_2 = set([1, 3, 4])"
   ]
  },
  {
   "cell_type": "code",
   "execution_count": null,
   "id": "c62d1c2d",
   "metadata": {},
   "outputs": [],
   "source": []
  },
  {
   "cell_type": "markdown",
   "id": "38863120",
   "metadata": {},
   "source": [
    "# Iteration & Loops"
   ]
  },
  {
   "cell_type": "markdown",
   "id": "8e6bf0e5",
   "metadata": {},
   "source": [
    "### Print out all the elements in the list \"looping_list\" with a for loop."
   ]
  },
  {
   "cell_type": "code",
   "execution_count": null,
   "id": "69039249",
   "metadata": {},
   "outputs": [],
   "source": [
    "looping_list = [0, 'a', 'b', [1, 2, 3], ('Python', 'R'), 55]"
   ]
  },
  {
   "cell_type": "code",
   "execution_count": null,
   "id": "2e0c7dec",
   "metadata": {},
   "outputs": [],
   "source": []
  },
  {
   "cell_type": "markdown",
   "id": "f58c2b64",
   "metadata": {},
   "source": [
    "### Print out all the elements in the list \"looping_list\" and enumerate the iteration number."
   ]
  },
  {
   "cell_type": "code",
   "execution_count": null,
   "id": "cb4b490c",
   "metadata": {},
   "outputs": [],
   "source": [
    "looping_list = [0, 'a', 'b', [1, 2, 3], ('Python', 'R'), 55]"
   ]
  },
  {
   "cell_type": "code",
   "execution_count": null,
   "id": "b401f949",
   "metadata": {},
   "outputs": [],
   "source": []
  },
  {
   "cell_type": "markdown",
   "id": "296e1f3a",
   "metadata": {},
   "source": [
    "### Write a for loop to print out each letter in the string. "
   ]
  },
  {
   "cell_type": "code",
   "execution_count": null,
   "id": "e3aae8b8",
   "metadata": {},
   "outputs": [],
   "source": [
    "for_string = 'Python!'"
   ]
  },
  {
   "cell_type": "code",
   "execution_count": null,
   "id": "339911b9",
   "metadata": {},
   "outputs": [],
   "source": []
  },
  {
   "cell_type": "markdown",
   "id": "68a29b13",
   "metadata": {},
   "source": [
    "### Write a while loop to print out each letter in the string. "
   ]
  },
  {
   "cell_type": "code",
   "execution_count": null,
   "id": "0fe72c4d",
   "metadata": {},
   "outputs": [],
   "source": [
    "while_string = 'Is Awesome!'"
   ]
  },
  {
   "cell_type": "code",
   "execution_count": null,
   "id": "8cf73954",
   "metadata": {},
   "outputs": [],
   "source": []
  },
  {
   "cell_type": "markdown",
   "id": "84f69821",
   "metadata": {},
   "source": [
    "### Print the numbers 1, 2, ..., 10 with a while loop. "
   ]
  },
  {
   "cell_type": "code",
   "execution_count": null,
   "id": "b26edc56",
   "metadata": {},
   "outputs": [],
   "source": []
  },
  {
   "cell_type": "markdown",
   "id": "38122cd9",
   "metadata": {},
   "source": [
    "### Print out all numbers that are divisible by 5 in the list \"numbers\". \n",
    "Hint: Use the modulo operator %. A number is divisible by 5 if the remainder after dividing by 5 is 0. "
   ]
  },
  {
   "cell_type": "code",
   "execution_count": null,
   "id": "4a77126f",
   "metadata": {},
   "outputs": [],
   "source": [
    "numbers = [10, 20, 34, 46, 55]"
   ]
  },
  {
   "cell_type": "code",
   "execution_count": null,
   "id": "63913f9b",
   "metadata": {},
   "outputs": [],
   "source": []
  },
  {
   "cell_type": "markdown",
   "id": "097e4726",
   "metadata": {},
   "source": [
    "### Print the numbers 0, 5, 10, 15, 20 with a for-loop and using the range function."
   ]
  },
  {
   "cell_type": "code",
   "execution_count": null,
   "id": "e6730d54",
   "metadata": {},
   "outputs": [],
   "source": []
  },
  {
   "cell_type": "markdown",
   "id": "fe281ab3",
   "metadata": {},
   "source": [
    "### Use a for loop to create a new list from list_example, where each number is mulitplied by 10. You should only include the numbers between 4-8 where 4 and 8 is included. (In general it is better to do this with list comprehension since it is more efficient but this is for exercise purpose.)"
   ]
  },
  {
   "cell_type": "code",
   "execution_count": null,
   "id": "12303023",
   "metadata": {},
   "outputs": [],
   "source": [
    "list_example = [1, 2, 3, 4, 5, 6, 7, 8, 9, 10]"
   ]
  },
  {
   "cell_type": "code",
   "execution_count": null,
   "id": "6b1360d5",
   "metadata": {},
   "outputs": [],
   "source": []
  },
  {
   "cell_type": "markdown",
   "id": "73fc584a",
   "metadata": {},
   "source": [
    "# Functions"
   ]
  },
  {
   "cell_type": "markdown",
   "id": "63236e09",
   "metadata": {},
   "source": [
    "### Create a function \"uppercase_converter\" that converts a string to uppercase. For example: uppercase_converter('hello') should return the value HELLO. "
   ]
  },
  {
   "cell_type": "code",
   "execution_count": null,
   "id": "fa434d45",
   "metadata": {},
   "outputs": [],
   "source": []
  },
  {
   "cell_type": "markdown",
   "id": "9103f538",
   "metadata": {},
   "source": [
    "### Create a function that accepts two arguments and that returns the sum and subtraction of the numbers. "
   ]
  },
  {
   "cell_type": "code",
   "execution_count": null,
   "id": "6475dc5a",
   "metadata": {},
   "outputs": [],
   "source": []
  },
  {
   "cell_type": "markdown",
   "id": "18c3c48a",
   "metadata": {},
   "source": [
    "### Create  a function that contains positional only, positional or keyword and finally keyword arguments only. Hint:\n",
    "**def f(pos_only_1, /, pos_or_kwd, *, kwd_only_1)** ."
   ]
  },
  {
   "cell_type": "code",
   "execution_count": null,
   "id": "d0d75159",
   "metadata": {},
   "outputs": [],
   "source": []
  },
  {
   "cell_type": "markdown",
   "id": "a677a3a7",
   "metadata": {},
   "source": [
    "### Assign a different name to the function and call it through the new name."
   ]
  },
  {
   "cell_type": "code",
   "execution_count": null,
   "id": "c3538cea",
   "metadata": {},
   "outputs": [],
   "source": [
    "def my_sum_function(x1, x2):\n",
    "    return x1 + x2\n",
    "\n",
    "my_sum_function(1,2)"
   ]
  },
  {
   "cell_type": "code",
   "execution_count": null,
   "id": "cf8d1c0d",
   "metadata": {},
   "outputs": [],
   "source": []
  },
  {
   "cell_type": "markdown",
   "id": "12e8be7b",
   "metadata": {},
   "source": [
    "### Write a function f that takes three arguments. The first two are numbers whereas the third is specifying wheter you want to multiply or add them. \n",
    "Example: \n",
    "\n",
    "f(2, 5, 'add') = 7\n",
    "\n",
    "f(2, 5, 'multiply') = 10\n",
    "\n",
    "f(2, 5, 'test') should return an error (raise an exception) and print out the message: Choose either \"add\" or \"multiply\" ."
   ]
  },
  {
   "cell_type": "code",
   "execution_count": null,
   "id": "8ef8102e",
   "metadata": {},
   "outputs": [],
   "source": []
  },
  {
   "cell_type": "markdown",
   "id": "5dc23d6b",
   "metadata": {},
   "source": [
    "### Run the program below and explain what it does."
   ]
  },
  {
   "cell_type": "code",
   "execution_count": null,
   "id": "e0588bd9",
   "metadata": {},
   "outputs": [],
   "source": [
    "name = input('What is your name dear stranger?')\n",
    "\n",
    "print('Mom, I met a person whos name is:', name)"
   ]
  },
  {
   "cell_type": "code",
   "execution_count": null,
   "id": "163c39f6",
   "metadata": {},
   "outputs": [],
   "source": []
  },
  {
   "cell_type": "markdown",
   "id": "7d7d35c1",
   "metadata": {},
   "source": [
    "# General Exercises"
   ]
  },
  {
   "cell_type": "markdown",
   "id": "d8cdd732",
   "metadata": {},
   "source": [
    "### Check if the strings below is a palindrome meaning that if you reverse the string it is the same. \n",
    "Example: anna reversed is still anna meaning it is a palindrome. john reversed is nhoj meaning it is not a palindrome. "
   ]
  },
  {
   "cell_type": "code",
   "execution_count": null,
   "id": "53b6d2bb",
   "metadata": {},
   "outputs": [],
   "source": [
    "string_1 = 'anna'\n",
    "string_2 = 'john'"
   ]
  },
  {
   "cell_type": "code",
   "execution_count": null,
   "id": "b6c1e2a4",
   "metadata": {},
   "outputs": [],
   "source": []
  },
  {
   "cell_type": "markdown",
   "id": "d8b71cd7",
   "metadata": {},
   "source": [
    "### Explain, with your own words, the difference between the two code blocks below. When would you prefer the respective method? Can you create two own examples when each method might be useful?\n",
    "A good link: https://stackoverflow.com/questions/9271712/difference-between-multiple-ifs-and-elifs ."
   ]
  },
  {
   "cell_type": "code",
   "execution_count": null,
   "id": "1fe19154",
   "metadata": {},
   "outputs": [],
   "source": [
    "number = 8"
   ]
  },
  {
   "cell_type": "code",
   "execution_count": null,
   "id": "54b25f3b",
   "metadata": {},
   "outputs": [],
   "source": [
    "if number < 5:\n",
    "    print('Less than 5')\n",
    "if number < 10:\n",
    "    print('Less than 10')\n",
    "if number < 100:\n",
    "    print('Less than 100')"
   ]
  },
  {
   "cell_type": "code",
   "execution_count": null,
   "id": "57e56cef",
   "metadata": {},
   "outputs": [],
   "source": [
    "if number < 5:\n",
    "    print('Less than 5')\n",
    "elif number < 10:\n",
    "    print('Less than 10')\n",
    "elif number < 100:\n",
    "    print('Less than 100')"
   ]
  },
  {
   "cell_type": "code",
   "execution_count": null,
   "id": "22a9be99",
   "metadata": {},
   "outputs": [],
   "source": []
  },
  {
   "cell_type": "markdown",
   "id": "a0a681e0",
   "metadata": {},
   "source": [
    "# Read PEP8 available at: https://peps.python.org/pep-0008/ . Give a short summary of some things that you should have in your \"fingertips\". For example, how should variables be named? How should you write a comment?\n",
    "\n",
    "# Ofcourse, the code you write here and henceforth should to highest possible extent follow the guidelines in PEP8. "
   ]
  },
  {
   "cell_type": "code",
   "execution_count": null,
   "id": "d424fddb",
   "metadata": {},
   "outputs": [],
   "source": []
  },
  {
   "cell_type": "code",
   "execution_count": null,
   "id": "990ba67f",
   "metadata": {},
   "outputs": [],
   "source": []
  },
  {
   "cell_type": "markdown",
   "id": "b812e1a1",
   "metadata": {},
   "source": [
    "# Classes\n",
    "The exercises are connected to the video available at: https://www.youtube.com/watch?v=M7bnYJyCx0Q from 1:02:20 to 1:14:59.\n",
    "\n",
    "When writing the solutions make sure the code is clear and readable. When providing comments, follow the general principle that you should comment \"why\" you are doing something and not \"what\", the \"what\" is seen by the code itself. "
   ]
  },
  {
   "cell_type": "markdown",
   "id": "3d73235b",
   "metadata": {},
   "source": [
    "### Create a class \"GroceryStore\" with price and quantity instance attributes and then create a new instance swedish_apples whos price is 30 and quantity is 900. Once the instance is created, print out the two attributes. "
   ]
  },
  {
   "cell_type": "code",
   "execution_count": null,
   "id": "be4dc5bd",
   "metadata": {},
   "outputs": [],
   "source": []
  },
  {
   "cell_type": "markdown",
   "id": "6851f32f",
   "metadata": {},
   "source": [
    "### Create a child class \"Subsidiarie\" that will inherit all of the variables and methods of the \"GroceryStore\" class. Then create a new instance grapes whos price is 50 and quantity is 600. Finally, print out the two  attributes.\n",
    "Hint: Use the keyword \"pass\" when creating the class Subsidiarie."
   ]
  },
  {
   "cell_type": "code",
   "execution_count": null,
   "id": "81a25e90",
   "metadata": {},
   "outputs": [],
   "source": []
  },
  {
   "cell_type": "markdown",
   "id": "47bec27c",
   "metadata": {},
   "source": [
    "### Create a child class \"Competitor\" that will inherit all of the variables and methods of the \"GroceryStore\" class. The class should have a class variable called store_name = competitor_grocery_store. Create an instance danish_apples whos price is 28 and quantity 920. Print out both the instance variables (price and quantity) and the class variable store_name."
   ]
  },
  {
   "cell_type": "code",
   "execution_count": null,
   "id": "eb516874",
   "metadata": {},
   "outputs": [],
   "source": []
  },
  {
   "cell_type": "markdown",
   "id": "3bf19bff",
   "metadata": {},
   "source": [
    "### Create a class \"GroceryStore_v2\" with price and quantity instance attributes and a class attribute called owner with the value \"Anna\" assigned to it. Add a method, customer_satisfaction that adds an instance attribute called \"grade\"  that can take values between 1-10, how do you make sure that the grade is between 1-10? Ideally, an exception is raised if grade is outside the allowed boundaries. The class should have a one line documentation string. \n",
    "\n",
    "### Create an instance \"lemons\" with price = 60, quantity = 100. Add a customer_satisfaction_grade that is 8.\n",
    "\n",
    "### Check the type of the lemons instance.\n",
    "\n",
    "### Check if lemons is an instance of the integer class (it should return False since lemons is an instance of GroceryStore_v2). Check if lemons is an instance of the GroceryStore_v2 class (should return True).\n",
    "\n",
    "### Print out the documentation string. "
   ]
  },
  {
   "cell_type": "code",
   "execution_count": null,
   "id": "359b55bf",
   "metadata": {},
   "outputs": [],
   "source": []
  },
  {
   "cell_type": "markdown",
   "id": "49794d77",
   "metadata": {},
   "source": [
    "### Create a class Square whos instances has the attribute side_length. Add two methods, perimeter and area that calculates the perimeter and area respectively given the length of one side which is the only attribute that the class has. Create an instance my_square with the side length 8. Print out the perimeter and area of \"my_square\". "
   ]
  },
  {
   "cell_type": "code",
   "execution_count": null,
   "id": "430d9d3f",
   "metadata": {},
   "outputs": [],
   "source": []
  },
  {
   "cell_type": "markdown",
   "id": "87256a7d",
   "metadata": {},
   "source": [
    "## Explain, in detail, with your own words what the \"DescriptiveStatistics\" class does."
   ]
  },
  {
   "cell_type": "code",
   "execution_count": null,
   "id": "4b27b7be",
   "metadata": {},
   "outputs": [],
   "source": [
    "class DescriptiveStatistics():\n",
    "    \"\"\"This class provides functionality for calculating descriptive statistics from a list.\"\"\"\n",
    "    \n",
    "    def __init__(self):\n",
    "        self.data = []\n",
    "    \n",
    "    def add_data(self, data):\n",
    "        if isinstance(data, list):\n",
    "            self.data.extend(data)\n",
    "        else:\n",
    "            raise Exception('Only \"Lists\" are accepted as data.')\n",
    "            \n",
    "    def calc_sum(self):\n",
    "        return sum(self.data)\n",
    "    \n",
    "    def calc_nbr_of_elements(self):\n",
    "        return len(self.data)\n",
    "    \n",
    "    def calc_mean(self):\n",
    "        return (self.calc_sum())/(self.calc_nbr_of_elements())\n",
    "    \n",
    "    def print_summary(self):\n",
    "        print('Sum:', self.calc_sum())\n",
    "        print('Number of elements:', self.calc_nbr_of_elements())\n",
    "        print('Mean:', self.calc_mean())  "
   ]
  },
  {
   "cell_type": "code",
   "execution_count": null,
   "id": "6ea36fcd",
   "metadata": {},
   "outputs": [],
   "source": [
    "L = [1, 2, 1, 3, 5, 7, 4, 9, 10, 3, 2, 1, 6, 4, 3, 2, 1, 10, 9, 1, 8, 7, 3, 2, 1]\n",
    "my_data = DescriptiveStatistics()\n",
    "my_data.add_data(L)"
   ]
  },
  {
   "cell_type": "code",
   "execution_count": null,
   "id": "34e98225",
   "metadata": {},
   "outputs": [],
   "source": [
    "my_data.data"
   ]
  },
  {
   "cell_type": "code",
   "execution_count": null,
   "id": "7692fc45",
   "metadata": {},
   "outputs": [],
   "source": [
    "print('Sum:', my_data.calc_sum())\n",
    "print('Number of elements:', my_data.calc_nbr_of_elements())\n",
    "print('Mean:', my_data.calc_mean())"
   ]
  },
  {
   "cell_type": "code",
   "execution_count": null,
   "id": "213dad63",
   "metadata": {},
   "outputs": [],
   "source": [
    "my_data.print_summary()"
   ]
  },
  {
   "cell_type": "code",
   "execution_count": null,
   "id": "272a843f",
   "metadata": {},
   "outputs": [],
   "source": []
  },
  {
   "cell_type": "markdown",
   "id": "12db29f4",
   "metadata": {},
   "source": [
    "# Exceptions\n",
    "In the video: https://www.youtube.com/watch?v=M7bnYJyCx0Q from 1:09:18 to 1:14:59 Exceptions is covered. Now you shall explain: \n",
    "1. In your own words describe why catching exceptions can be useful.\n",
    "2. Create an example where you *catch* an exception. \n",
    "3. Create a function where you *raise* exceptions for different cases (it can be one or more). Why would you like to raise exceptions?"
   ]
  },
  {
   "cell_type": "code",
   "execution_count": null,
   "id": "29085072",
   "metadata": {},
   "outputs": [],
   "source": []
  },
  {
   "cell_type": "markdown",
   "id": "63821e44",
   "metadata": {},
   "source": [
    "# Självutvärdering\n",
    "Besvara nedanstående frågor som en hjälp till reflektion. \n",
    "\n",
    "1. Hur har arbetet gått? Vad är du nöjd med och vad kan du förbättra till framöver i kursen? \n",
    "2. Vilket betyg anser du att du skall ha och varför? \n",
    "3. Något du vill lyfta fram till Antonio?"
   ]
  },
  {
   "cell_type": "code",
   "execution_count": null,
   "id": "dc791b87",
   "metadata": {},
   "outputs": [],
   "source": []
  }
 ],
 "metadata": {
  "kernelspec": {
   "display_name": "Python 3 (ipykernel)",
   "language": "python",
   "name": "python3"
  },
  "language_info": {
   "codemirror_mode": {
    "name": "ipython",
    "version": 3
   },
   "file_extension": ".py",
   "mimetype": "text/x-python",
   "name": "python",
   "nbconvert_exporter": "python",
   "pygments_lexer": "ipython3",
   "version": "3.8.0"
  }
 },
 "nbformat": 4,
 "nbformat_minor": 5
}
