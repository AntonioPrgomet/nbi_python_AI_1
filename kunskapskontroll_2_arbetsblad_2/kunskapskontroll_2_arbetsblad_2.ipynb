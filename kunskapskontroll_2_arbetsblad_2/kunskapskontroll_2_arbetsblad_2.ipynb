{
 "cells": [
  {
   "cell_type": "markdown",
   "id": "4b9dcc64",
   "metadata": {},
   "source": [
    "# Kunskapskontroll 2 - Arbetsblad 2"
   ]
  },
  {
   "cell_type": "code",
   "execution_count": null,
   "id": "750ac4d4",
   "metadata": {},
   "outputs": [],
   "source": []
  },
  {
   "cell_type": "markdown",
   "id": "42deef03",
   "metadata": {},
   "source": [
    "# Kapitel 1 i boken \"Statististisk Dataanalys\""
   ]
  },
  {
   "cell_type": "markdown",
   "id": "698dac1a",
   "metadata": {},
   "source": [
    "## Teoretiska uppgifter"
   ]
  },
  {
   "cell_type": "markdown",
   "id": "376be1b0",
   "metadata": {},
   "source": [
    "Du skall göra följande teoretiska uppgifter med papper och penna. Fota dina renskrivna lösningar och lägg in i **ett** Microsoft Word (gärna pdf) dokument (eller motsvarade om du använder Mac dator). \n",
    "\n",
    "**Uppgifter:**\n",
    "- 101, 102, 104.\n",
    "- 109, 110, 114.\n",
    "- 115, 116."
   ]
  },
  {
   "cell_type": "code",
   "execution_count": null,
   "id": "01dfa1d7",
   "metadata": {},
   "outputs": [],
   "source": []
  },
  {
   "cell_type": "markdown",
   "id": "e463418d",
   "metadata": {},
   "source": [
    "## Programmeringsuppgifter\n",
    "I detta skriptet så skall du lösa följande uppgifter med hjälp av Python."
   ]
  },
  {
   "cell_type": "markdown",
   "id": "65e2dddc",
   "metadata": {},
   "source": [
    "### Uppgift 105 i boken statistisk dataanalys\n",
    "Hint, för att slumpa ett myntkast så kan du använda: \n",
    "```python\n",
    "import numpy as np \n",
    "coin_toss = np.random.randint(low=0, high=2, size=200)\n",
    "print(coin_toss)\n",
    "```"
   ]
  },
  {
   "cell_type": "code",
   "execution_count": null,
   "id": "60283501",
   "metadata": {},
   "outputs": [],
   "source": []
  },
  {
   "cell_type": "markdown",
   "id": "87719de6",
   "metadata": {},
   "source": [
    "### Calculate 1!, 2!, ..., 12! . What is your conclusion regarding the growth of the factorial function?"
   ]
  },
  {
   "cell_type": "code",
   "execution_count": null,
   "id": "e5661dc4",
   "metadata": {},
   "outputs": [],
   "source": []
  },
  {
   "cell_type": "markdown",
   "id": "fa057793",
   "metadata": {},
   "source": [
    "### We know that the binomial coefficients can be used to calculate the number of ways to choose k elements from n without replacement when the order does not matter. We have the formula: $\\binom{n}{k} = \\frac{n!}{k!(n-k)!}$ .\n",
    "\n",
    "### Now calculate $\\binom{6}{2}$ with a built in function and then create your own function (you can use the built in factorial function) and verify that you get the same results. "
   ]
  },
  {
   "cell_type": "code",
   "execution_count": null,
   "id": "8de19d6a",
   "metadata": {},
   "outputs": [],
   "source": []
  },
  {
   "cell_type": "markdown",
   "id": "d47c4149",
   "metadata": {},
   "source": [
    "# Kapitel 2 i boken \"Statististisk Dataanalys\""
   ]
  },
  {
   "cell_type": "markdown",
   "id": "856e37a5",
   "metadata": {},
   "source": [
    "## Teoretiska uppgifter"
   ]
  },
  {
   "cell_type": "markdown",
   "id": "b8742978",
   "metadata": {},
   "source": [
    "Du skall göra följande teoretiska uppgifter med papper och penna. Fota dina renskrivna lösningar och lägg in i **ett** Microsoft Word dokument (eller motsvarade om du använder Mac dator). \n",
    "\n",
    "**Uppgifter:**\n",
    "- 201, 203.\n",
    "- 204, 206. \n",
    "- 208, 211. \n",
    "- 214, 216. \n",
    "- 219, 220. \n",
    "- 222, 223, 225. "
   ]
  },
  {
   "cell_type": "code",
   "execution_count": null,
   "id": "0a8b0234",
   "metadata": {},
   "outputs": [],
   "source": []
  },
  {
   "cell_type": "markdown",
   "id": "b66ba5e5",
   "metadata": {},
   "source": [
    "# Kapitel 3 i boken \"Statististisk Dataanalys\""
   ]
  },
  {
   "cell_type": "markdown",
   "id": "ce78a982",
   "metadata": {},
   "source": [
    "## Teoretiska uppgifter"
   ]
  },
  {
   "cell_type": "markdown",
   "id": "2ea00cea",
   "metadata": {},
   "source": [
    "Du skall göra följande teoretiska uppgifter med papper och penna. Fota dina renskrivna lösningar och lägg in i **ett** Microsoft Word dokument (eller motsvarade om du använder Mac dator). \n",
    "\n",
    "**Uppgifter:**\n",
    "- 304, 305. \n",
    "- 306. \n",
    "- 307, 308, 309, 310, 311. \n",
    "- 314, 316. "
   ]
  },
  {
   "cell_type": "code",
   "execution_count": null,
   "id": "3eb06955",
   "metadata": {},
   "outputs": [],
   "source": []
  },
  {
   "cell_type": "markdown",
   "id": "8e759d9f",
   "metadata": {},
   "source": [
    "## Programmeringsuppgifter\n",
    "I detta skriptet så skall du lösa följande uppgifter med hjälp av Python."
   ]
  },
  {
   "cell_type": "markdown",
   "id": "6e9f35fa",
   "metadata": {},
   "source": [
    "### Read the following documentation, note the methods such as rvs, pmf, cdf. These are available for most of the distributions meaning \"once you know one of them, you know most\". \n",
    "\n",
    "https://docs.scipy.org/doc/scipy/reference/generated/scipy.stats.binom.html "
   ]
  },
  {
   "cell_type": "markdown",
   "id": "340bc9c2",
   "metadata": {},
   "source": [
    "In general, for discrete distributions, the probability mass function *(also called density function)*, $p(X = x)$, calculates the probability that the random variable takes a specific value. The distribution function *(also called the cumulative distribution function)* $F(x) = P(X \\leq x)$ calculates the probability that a random variable is less than or equal to a value. Random number generation simply means that you generate random numbers from a distribution. The quantile function *(also called: Percent point function or inverse CDF)* we will skip for now and will learn more about that in later chapters. "
   ]
  },
  {
   "cell_type": "markdown",
   "id": "7bba1b74",
   "metadata": {},
   "source": [
    "### Solve exercise 307 in Python. "
   ]
  },
  {
   "cell_type": "code",
   "execution_count": null,
   "id": "0e19090d",
   "metadata": {},
   "outputs": [],
   "source": []
  },
  {
   "cell_type": "markdown",
   "id": "adf748c8",
   "metadata": {},
   "source": [
    "### Solve exercise 308 in Python. "
   ]
  },
  {
   "cell_type": "code",
   "execution_count": null,
   "id": "def916ad",
   "metadata": {},
   "outputs": [],
   "source": []
  },
  {
   "cell_type": "markdown",
   "id": "7175de32",
   "metadata": {},
   "source": [
    "### Solve exercise 309 in Python. "
   ]
  },
  {
   "cell_type": "code",
   "execution_count": null,
   "id": "746ea4f0",
   "metadata": {},
   "outputs": [],
   "source": []
  },
  {
   "cell_type": "markdown",
   "id": "7a61be43",
   "metadata": {},
   "source": [
    "### Solve exercise 314 in Python. "
   ]
  },
  {
   "cell_type": "code",
   "execution_count": null,
   "id": "03f92e5a",
   "metadata": {},
   "outputs": [],
   "source": []
  },
  {
   "cell_type": "markdown",
   "id": "f574f375",
   "metadata": {},
   "source": [
    "### Simulate 10000 samples from bin(n= 100, p = 0.35) and plot a histogram. Then simulate 10000 samples from bin(n= 100, p = 0.9) and plot a histogram. In the plots, what is the \"middle\" of the plot? Which plot has a \"wider\" distribution?\n",
    "\n",
    "### What is the theoretical/true Expected Value and Variance of the two distributions? (see p.89 in the book for formulas.)\n",
    "\n",
    "### Calculate the mean and variance of the two samples that you simulated, use the functions np.mean() and np.var(). Explain your observations . "
   ]
  },
  {
   "cell_type": "code",
   "execution_count": null,
   "id": "0380b410",
   "metadata": {},
   "outputs": [],
   "source": []
  },
  {
   "cell_type": "markdown",
   "id": "82efc45f",
   "metadata": {},
   "source": [
    "### VG Question. \n",
    "### Ilustrate the Law of Large Numbers (LLN)  [Called \"De relative frekvensernas stabilitet\" in the book p.14]\n",
    "1. Simulate 10000 dice throws. \n",
    "2. Plot the relative frequency of the number of times three dots occur for 1, 2, ..., 10000 throws.\n",
    "3. To what number does the relative frequency converge to? What is the probability of getting three dots when throwing a dice? Do these two numbers coincide?\n",
    "4. Explain what you observe. \n",
    "\n",
    "Make sure to create a good pedagogical plot, i.e. include title, x-label and y-label. "
   ]
  },
  {
   "cell_type": "markdown",
   "id": "e431a509",
   "metadata": {},
   "source": [
    "**Hint: For step 1 use the random.choices() function. You should also create an empty list that you append with the relative frequencies for 1, 2, ... 10000 throws.**"
   ]
  },
  {
   "cell_type": "code",
   "execution_count": null,
   "id": "349e4fbd",
   "metadata": {},
   "outputs": [],
   "source": [
    "# Help about the random.choices function\n",
    "help(random.choices)\n",
    "\n",
    "print(random.choices([1, 2, 3, 4, 5, 6,], k=3))\n",
    "print(random.choices([1, 2, 3, 4, 5, 6,], k=10))"
   ]
  },
  {
   "cell_type": "code",
   "execution_count": null,
   "id": "fa2a0edd",
   "metadata": {},
   "outputs": [],
   "source": []
  },
  {
   "cell_type": "markdown",
   "id": "c52ce395",
   "metadata": {},
   "source": [
    "# Självutvärdering\n",
    "Besvara nedanstående frågor som en hjälp till reflektion. \n",
    "\n",
    "1. Hur har arbetet gått? Vad är du nöjd med och vad kan du förbättra till framöver i kursen? \n",
    "2. Vilket betyg anser du att du skall ha och varför? \n",
    "3. Något du vill lyfta fram till Antonio?"
   ]
  },
  {
   "cell_type": "code",
   "execution_count": null,
   "id": "7e2bec1d",
   "metadata": {},
   "outputs": [],
   "source": []
  }
 ],
 "metadata": {
  "kernelspec": {
   "display_name": "Python 3 (ipykernel)",
   "language": "python",
   "name": "python3"
  },
  "language_info": {
   "codemirror_mode": {
    "name": "ipython",
    "version": 3
   },
   "file_extension": ".py",
   "mimetype": "text/x-python",
   "name": "python",
   "nbconvert_exporter": "python",
   "pygments_lexer": "ipython3",
   "version": "3.9.18"
  }
 },
 "nbformat": 4,
 "nbformat_minor": 5
}
