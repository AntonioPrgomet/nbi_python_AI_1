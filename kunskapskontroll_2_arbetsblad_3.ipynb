{
 "cells": [
  {
   "cell_type": "markdown",
   "id": "4b9dcc64",
   "metadata": {},
   "source": [
    "# Kunskapskontroll 2 - Arbetsblad 3"
   ]
  },
  {
   "cell_type": "code",
   "execution_count": null,
   "id": "750ac4d4",
   "metadata": {},
   "outputs": [],
   "source": []
  },
  {
   "cell_type": "markdown",
   "id": "42deef03",
   "metadata": {},
   "source": [
    "# Kapitel 4 i boken \"Statististisk Dataanalys\""
   ]
  },
  {
   "cell_type": "markdown",
   "id": "698dac1a",
   "metadata": {},
   "source": [
    "## Teoretiska uppgifter"
   ]
  },
  {
   "cell_type": "markdown",
   "id": "376be1b0",
   "metadata": {},
   "source": [
    "Du skall göra följande teoretiska uppgifter med papper och penna. Fota dina renskrivna lösningar och lägg in i **ett** Microsoft Word dokument (eller motsvarade om du använder Mac dator). \n",
    "\n",
    "**Uppgifter:**\n",
    "- 403, 404 a) och b), 407, 408, 409, 414, 415. "
   ]
  },
  {
   "cell_type": "markdown",
   "id": "e463418d",
   "metadata": {},
   "source": [
    "## Programmeringsuppgifter\n",
    "I detta skriptet så skall du lösa följande uppgifter med hjälp av Python."
   ]
  },
  {
   "cell_type": "code",
   "execution_count": null,
   "id": "6d1edc3d",
   "metadata": {},
   "outputs": [],
   "source": []
  },
  {
   "cell_type": "markdown",
   "id": "36b5f2ca",
   "metadata": {},
   "source": [
    "# Kapitel 5 i boken \"Statististisk Dataanalys\""
   ]
  },
  {
   "cell_type": "markdown",
   "id": "1b5fb305",
   "metadata": {},
   "source": [
    "## Teoretiska uppgifter\n",
    "Du skall göra följande teoretiska uppgifter med papper och penna. Fota dina renskrivna lösningar och lägg in i **ett** Microsoft Word dokument (eller motsvarade om du använder Mac dator). \n",
    "\n",
    "**Uppgifter:**\n",
    "- 501, 502, 503, 505, 506. \n",
    "- 509, 510, 512. "
   ]
  },
  {
   "cell_type": "code",
   "execution_count": null,
   "id": "38dd5aa5",
   "metadata": {},
   "outputs": [],
   "source": []
  },
  {
   "cell_type": "markdown",
   "id": "9236936b",
   "metadata": {},
   "source": [
    "## Programmeringsuppgifter\n",
    "I detta skriptet så skall du lösa följande uppgifter med hjälp av Python."
   ]
  },
  {
   "cell_type": "code",
   "execution_count": null,
   "id": "34ba9926",
   "metadata": {},
   "outputs": [],
   "source": []
  },
  {
   "cell_type": "markdown",
   "id": "0726a9b7",
   "metadata": {},
   "source": [
    "### Solve exercise 501 in Python. "
   ]
  },
  {
   "cell_type": "code",
   "execution_count": null,
   "id": "4e8c434c",
   "metadata": {},
   "outputs": [],
   "source": []
  },
  {
   "cell_type": "markdown",
   "id": "0fcb93cd",
   "metadata": {},
   "source": [
    "### Solve exercise 503 in Python. "
   ]
  },
  {
   "cell_type": "code",
   "execution_count": null,
   "id": "1e9980d7",
   "metadata": {},
   "outputs": [],
   "source": []
  },
  {
   "cell_type": "markdown",
   "id": "a64fd63d",
   "metadata": {},
   "source": [
    "### Make a simulation exercise. "
   ]
  },
  {
   "cell_type": "code",
   "execution_count": null,
   "id": "8cd6503d",
   "metadata": {},
   "outputs": [],
   "source": []
  },
  {
   "cell_type": "markdown",
   "id": "d2640f58",
   "metadata": {},
   "source": [
    "# Självutvärdering\n",
    "Besvara nedanstående frågor som en hjälp till reflektion. \n",
    "\n",
    "1. Hur har arbetet gått? Vad är du nöjd med och vad kan du förbättra till framöver i kursen? \n",
    "2. Vilket betyg anser du att du skall ha och varför? \n",
    "3. Något du vill lyfta fram till Antonio?"
   ]
  },
  {
   "cell_type": "code",
   "execution_count": null,
   "id": "7a40eac2",
   "metadata": {},
   "outputs": [],
   "source": []
  }
 ],
 "metadata": {
  "kernelspec": {
   "display_name": "Python 3 (ipykernel)",
   "language": "python",
   "name": "python3"
  },
  "language_info": {
   "codemirror_mode": {
    "name": "ipython",
    "version": 3
   },
   "file_extension": ".py",
   "mimetype": "text/x-python",
   "name": "python",
   "nbconvert_exporter": "python",
   "pygments_lexer": "ipython3",
   "version": "3.8.0"
  }
 },
 "nbformat": 4,
 "nbformat_minor": 5
}
